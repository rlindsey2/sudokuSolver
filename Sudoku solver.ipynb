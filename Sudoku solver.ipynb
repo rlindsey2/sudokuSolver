{
 "cells": [
  {
   "cell_type": "code",
   "execution_count": 1,
   "metadata": {},
   "outputs": [],
   "source": [
    "sudoku = [\n",
    "    [0,0,0,0,0,0,0,0,0],\n",
    "    [0,0,0,0,0,0,0,0,0],\n",
    "    [0,0,0,0,0,0,0,0,0],\n",
    "    [0,0,0,0,0,0,0,0,0],\n",
    "    [0,0,0,0,0,0,0,0,0],\n",
    "    [0,0,0,0,0,0,0,0,0],\n",
    "    [0,0,0,0,0,0,0,0,0],\n",
    "    [0,0,0,0,0,0,0,0,0],\n",
    "    [0,0,0,0,0,0,0,0,0]\n",
    "]\n",
    "\n",
    "exampleSudoku = [\n",
    "    [5,3,0,0,7,0,0,0,0],\n",
    "    [6,0,0,1,9,5,0,0,0],\n",
    "    [0,9,8,0,0,0,0,6,0],\n",
    "    [8,0,0,0,6,0,0,0,3],\n",
    "    [4,0,0,8,0,3,0,0,1],\n",
    "    [7,0,0,0,2,0,0,0,6],\n",
    "    [0,6,0,0,0,0,2,8,0],\n",
    "    [0,0,0,4,1,9,0,0,5],\n",
    "    [0,0,0,0,8,0,0,7,9]\n",
    "]\n"
   ]
  },
  {
   "cell_type": "code",
   "execution_count": 2,
   "metadata": {},
   "outputs": [],
   "source": [
    "completeLine = [1,2,3,4,5,6,7,8,9]"
   ]
  },
  {
   "cell_type": "code",
   "execution_count": 3,
   "metadata": {},
   "outputs": [
    {
     "name": "stdout",
     "output_type": "stream",
     "text": [
      "{0: [], 1: [], 2: [], 3: [], 4: [], 5: [], 6: [], 7: [], 8: [], 9: [], 10: [], 11: [], 12: [], 13: [], 14: [], 15: [], 16: [], 17: [], 18: [], 19: [], 20: [], 21: [], 22: [], 23: [], 24: [], 25: [], 26: [], 27: [], 28: [], 29: [], 30: [], 31: [], 32: [], 33: [], 34: [], 35: [], 36: [], 37: [], 38: [], 39: [], 40: [], 41: [], 42: [], 43: [], 44: [], 45: [], 46: [], 47: [], 48: [], 49: [], 50: [], 51: [], 52: [], 53: [], 54: [], 55: [], 56: [], 57: [], 58: [], 59: [], 60: [], 61: [], 62: [], 63: [], 64: [], 65: [], 66: [], 67: [], 68: [], 69: [], 70: [], 71: [], 72: [], 73: [], 74: [], 75: [], 76: [], 77: [], 78: [], 79: [], 80: []}\n"
     ]
    }
   ],
   "source": [
    "#generate dictionary of all cells\n",
    "dictOfAllCells = {}\n",
    "\n",
    "for cellNumber in range(81):\n",
    "    dictOfAllCells[cellNumber] = []\n",
    "    \n",
    "print(dictOfAllCells)"
   ]
  },
  {
   "cell_type": "code",
   "execution_count": 4,
   "metadata": {},
   "outputs": [
    {
     "data": {
      "text/plain": [
       "[1, 2, 4, 5, 7, 8]"
      ]
     },
     "execution_count": 4,
     "metadata": {},
     "output_type": "execute_result"
    }
   ],
   "source": [
    "#give it a column and it will return the possible numbers left\n",
    "def possibleNumbersLeftInColumn(column: int):\n",
    "    numbersInLine = []\n",
    "    for number in range(9):\n",
    "        if exampleSudoku[number][column] > 0:\n",
    "            numbersInLine.append(exampleSudoku[number][column])\n",
    "    possibleNumbers = set(completeLine) - set(numbersInLine)\n",
    "    \n",
    "    return list(possibleNumbers)\n",
    "\n",
    "possibleNumbersLeftInColumn(1)"
   ]
  },
  {
   "cell_type": "code",
   "execution_count": 5,
   "metadata": {},
   "outputs": [
    {
     "data": {
      "text/plain": [
       "[1, 2, 4, 6, 8, 9]"
      ]
     },
     "execution_count": 5,
     "metadata": {},
     "output_type": "execute_result"
    }
   ],
   "source": [
    "#give it a row and it will return the possible numbers left\n",
    "def possibleNumbersLeftinRow(row: int):\n",
    "    possibleNumbers = set(completeLine) - set(exampleSudoku[row])\n",
    "    \n",
    "    return list(possibleNumbers)\n",
    "    \n",
    "possibleNumbersLeftinRow(0)"
   ]
  },
  {
   "cell_type": "code",
   "execution_count": 6,
   "metadata": {},
   "outputs": [
    {
     "data": {
      "text/plain": [
       "[1, 2, 4, 7]"
      ]
     },
     "execution_count": 6,
     "metadata": {},
     "output_type": "execute_result"
    }
   ],
   "source": [
    "#give it a box and it will return the possible numbers left\n",
    "def possibleNumbersLeftInBox(box: int):\n",
    "    numbersInLine = []\n",
    "    \n",
    "    numbersInLine[1:1] = exampleSudoku[int(box / 3)*3][int(box % 3)*3:(int(box % 3)*3)+3]\n",
    "    numbersInLine[1:1] = exampleSudoku[int(box / 3)*3+1][int(box % 3)*3:(int(box % 3)*3)+3]\n",
    "    numbersInLine[1:1] = exampleSudoku[int(box / 3)*3+2][int(box % 3)*3:(int(box % 3)*3)+3]\n",
    "    numbersInLine = [x for x in numbersInLine if x != 0]\n",
    "    possibleNumbers = set(completeLine) - set(numbersInLine)\n",
    "    \n",
    "    return list(possibleNumbers)\n",
    "    \n",
    "possibleNumbersLeftInBox(0)"
   ]
  },
  {
   "cell_type": "code",
   "execution_count": 7,
   "metadata": {},
   "outputs": [
    {
     "data": {
      "text/plain": [
       "(3, 3, 4)"
      ]
     },
     "execution_count": 7,
     "metadata": {},
     "output_type": "execute_result"
    }
   ],
   "source": [
    "#give it a cell number and it will return the box number\n",
    "def cellRowColumnAndBox(number:int):\n",
    "    \n",
    "    row = int(number / 9)\n",
    "    column = int(number % 9)\n",
    "    box = 0\n",
    "    \n",
    "    if row < 3:\n",
    "        if column < 3:\n",
    "            box = 0\n",
    "        elif column > 2 and column < 6:\n",
    "            box = 1\n",
    "        elif column > 5 and column < 9:\n",
    "            box = 2\n",
    "    elif row > 2 and row < 6:\n",
    "        if column < 3:\n",
    "            box = 3\n",
    "        elif column > 2 and column < 6:\n",
    "            box = 4\n",
    "        elif column > 5 and column < 9:\n",
    "            box = 5\n",
    "    elif row > 5 and row < 9:\n",
    "        if column < 3:\n",
    "            box = 6\n",
    "        elif column > 2 and column  < 6:\n",
    "            box = 7\n",
    "        elif column > 5 and column  < 9:\n",
    "            box = 8\n",
    "    \n",
    "    return (row, column, box)\n",
    "\n",
    "cellRowColumnAndBox(30)"
   ]
  },
  {
   "cell_type": "code",
   "execution_count": 8,
   "metadata": {},
   "outputs": [],
   "source": [
    "#give it column,row and box possibilities and return the only ones left\n",
    "def possibleNumbers(rowPossibilities, columnPossibilities, boxPossibilities):\n",
    "    \n",
    "    print(\"row: {}\".format(rowPossibilities))\n",
    "    print(\"column: {}\".format(columnPossibilities))\n",
    "    print(\"box: {}\".format(boxPossibilities))\n",
    "    possibleNumbersForCell = set(rowPossibilities) & set(columnPossibilities) & set(boxPossibilities)\n",
    "    print(\"cell possible numbers: {}\".format(possibleNumbersForCell))\n",
    "    \n",
    "    return list(possibleNumbersForCell)"
   ]
  },
  {
   "cell_type": "code",
   "execution_count": 19,
   "metadata": {},
   "outputs": [
    {
     "data": {
      "text/plain": [
       "{0: [],\n",
       " 1: [],\n",
       " 2: [1, 2, 4],\n",
       " 3: [2, 6],\n",
       " 4: [],\n",
       " 5: [8, 2, 4, 6],\n",
       " 6: [9, 4],\n",
       " 7: [1, 2, 4],\n",
       " 8: [8, 2],\n",
       " 9: [],\n",
       " 10: [4, 7],\n",
       " 11: [2, 4],\n",
       " 12: [],\n",
       " 13: [],\n",
       " 14: [],\n",
       " 15: [8, 3, 4],\n",
       " 16: [2, 4],\n",
       " 17: [8, 2, 7],\n",
       " 18: [1, 2],\n",
       " 19: [],\n",
       " 20: [],\n",
       " 21: [2, 3],\n",
       " 22: [3, 4],\n",
       " 23: [2, 4],\n",
       " 24: [1, 3, 5, 7],\n",
       " 25: [],\n",
       " 26: [2, 4, 7],\n",
       " 27: [],\n",
       " 28: [1, 5],\n",
       " 29: [9, 5],\n",
       " 30: [9, 5, 7],\n",
       " 31: [],\n",
       " 32: [1, 4],\n",
       " 33: [9, 4, 5],\n",
       " 34: [2, 5],\n",
       " 35: [],\n",
       " 36: [],\n",
       " 37: [2, 5],\n",
       " 38: [9, 6],\n",
       " 39: [],\n",
       " 40: [],\n",
       " 41: [],\n",
       " 42: [9, 7],\n",
       " 43: [9, 2],\n",
       " 44: [],\n",
       " 45: [],\n",
       " 46: [1, 5],\n",
       " 47: [1, 3, 5],\n",
       " 48: [],\n",
       " 49: [],\n",
       " 50: [1, 4],\n",
       " 51: [8, 4, 5],\n",
       " 52: [4, 5],\n",
       " 53: [],\n",
       " 54: [1, 9],\n",
       " 55: [],\n",
       " 56: [1, 5, 9],\n",
       " 57: [3, 5, 7],\n",
       " 58: [],\n",
       " 59: [],\n",
       " 60: [],\n",
       " 61: [],\n",
       " 62: [],\n",
       " 63: [2, 3],\n",
       " 64: [8, 7],\n",
       " 65: [2, 3, 7],\n",
       " 66: [],\n",
       " 67: [],\n",
       " 68: [],\n",
       " 69: [3, 6],\n",
       " 70: [],\n",
       " 71: [],\n",
       " 72: [1, 3],\n",
       " 73: [4, 5],\n",
       " 74: [4, 5],\n",
       " 75: [2, 6],\n",
       " 76: [],\n",
       " 77: [2, 6],\n",
       " 78: [1, 6],\n",
       " 79: [],\n",
       " 80: []}"
      ]
     },
     "execution_count": 19,
     "metadata": {},
     "output_type": "execute_result"
    }
   ],
   "source": [
    "\n",
    "for cell in range(81):\n",
    "    \n",
    "    cellPosition = cellRowColumnAndBox(cell)\n",
    "    rowPossibilities = possibleNumbersLeftinRow(cellPosition[0])\n",
    "    columnPossibilities = possibleNumbersLeftInColumn(cellPosition[1])\n",
    "    \n",
    "    if exampleSudoku[cellPosition[0]][cellPosition[1]] != 0:\n",
    "        continue\n",
    "    \n",
    "    print(cellPosition)\n",
    "    boxPossibilities = possibleNumbersLeftInBox(cellPosition[2])\n",
    "    \n",
    "    possibleCellNumbers = possibleNumbers(rowPossibilities, columnPossibilities, boxPossibilities)\n",
    "    \n",
    "    if len(possibleCellNumbers) == 1:\n",
    "        #add that number to the soduku board as it must be where it goes.\n",
    "        exampleSudoku[cellPosition[0]][cellPosition[1]] = possibleCellNumbers[0]\n",
    "        #del dictOfAllCells[cell]\n",
    "        continue\n",
    "    '''\n",
    "    print(len(possibleCellNumbers))\n",
    "    if len(possibleCellNumbers) == 0:\n",
    "        print(\"deleted\")\n",
    "        del dictOfAllCells[cell]\n",
    "        continue\n",
    "    '''\n",
    "    \n",
    "    dictOfAllCells[cell] = possibleCellNumbers\n",
    "    \n",
    "dictOfAllCells"
   ]
  },
  {
   "cell_type": "code",
   "execution_count": 20,
   "metadata": {},
   "outputs": [
    {
     "data": {
      "text/plain": [
       "[[5, 3, 4, 6, 7, 8, 9, 1, 2],\n",
       " [6, 7, 2, 1, 9, 5, 3, 4, 8],\n",
       " [1, 9, 8, 3, 4, 2, 5, 6, 7],\n",
       " [8, 5, 9, 7, 6, 1, 4, 2, 3],\n",
       " [4, 2, 6, 8, 5, 3, 7, 9, 1],\n",
       " [7, 1, 3, 9, 2, 4, 8, 5, 6],\n",
       " [9, 6, 1, 5, 3, 7, 2, 8, 4],\n",
       " [2, 8, 7, 4, 1, 9, 6, 3, 5],\n",
       " [3, 4, 5, 2, 8, 6, 1, 7, 9]]"
      ]
     },
     "execution_count": 20,
     "metadata": {},
     "output_type": "execute_result"
    }
   ],
   "source": [
    "exampleSudoku"
   ]
  },
  {
   "cell_type": "code",
   "execution_count": null,
   "metadata": {},
   "outputs": [],
   "source": []
  },
  {
   "cell_type": "code",
   "execution_count": null,
   "metadata": {},
   "outputs": [],
   "source": []
  }
 ],
 "metadata": {
  "kernelspec": {
   "display_name": "Python 3",
   "language": "python",
   "name": "python3"
  },
  "language_info": {
   "codemirror_mode": {
    "name": "ipython",
    "version": 3
   },
   "file_extension": ".py",
   "mimetype": "text/x-python",
   "name": "python",
   "nbconvert_exporter": "python",
   "pygments_lexer": "ipython3",
   "version": "3.7.0"
  }
 },
 "nbformat": 4,
 "nbformat_minor": 2
}
